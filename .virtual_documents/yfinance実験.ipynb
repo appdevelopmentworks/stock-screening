!pip install yfinance


import yfinance as yf


stock = yf.Ticker("8151.T")


#yfinance 0.2.36　だとデータ取れた
stock.financials


#yfinance 0.2.36　だとデータ取れた
stock.info


stockdata = stock.info
stockdata['operatingCashflow']


#財務諸表４年分
stock.financials

#Operating Revenue(売上高)
#Operating Income（営業利益）
#Net Income（利益）
#Basic EPS(１株益)



stock.quarterly_financials

#Operating Revenue(売上高)
#Operating Income（営業利益）
#Net Income（利益）
#Basic EPS(１株益)



stock_finq =stock.quarterly_financials
stock_finq.index[4]


stock.quarterly_income_stmt




stock.quarterly_income_stmt.T





!pip list 


!pip freeze



