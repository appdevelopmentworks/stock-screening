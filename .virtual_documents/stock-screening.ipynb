!pip install yfinance


import yfinance as yf


stock = yf.Ticker("3962.T")


#yfinance 0.2.36　だとデータ取れた
stock.financials


#yfinance 0.2.36　だとデータ取れた
stock.info


stockdata = stock.info
stockdata['operatingCashflow']


stock.quarterly_income_stmt 


!pip list


!python -V


import pandas as pd
import logging


url = 'https://finance.yahoo.co.jp/stocks/ranking/listingDate?market=all&term=daily&page='


#無いページにアクセスしエラー調べる
df = pd.read_html('https://finance.yahoo.co.jp/stocks/ranking/listingDate?market=all&term=daily&page=100')


logging.basicConfig(level=logging.INFO)

base_url = 'https://finance.yahoo.co.jp/stocks/ranking/listingDate?market=all&term=daily&page='
intPage = 27

df = pd.DataFrame()

for i in range(1, intPage):
    url = base_url + str(i)
    print(url)
    try:
        dft = pd.read_html(url)
        df = pd.concat([df, dft[0]])
    except ValueError as ex:
        logging.error(ex)
        
df = df.reset_index()


df.set_index('順位')


#'TPM','名証','札幌','福証','東証'
intCnt = 0
kubuns = ['東証','名証','札','福','TPM']
code = []
sname = []
sijyou = []

for datam in df['名称・コード・市場'].to_list():
  for kubun in kubuns:
    idxnum = datam.find(kubun)
    if idxnum > 0:
      #print(datam[idxnum-4:idxnum])
      #print(datam[:idxnum-4])
      #print(datam[idxnum:-3])
      code.append(datam[idxnum-4:idxnum])
      sname.append(datam[:idxnum-4])
      sijyou.append(datam[idxnum:-3])
      intCnt = intCnt +1

print(str(intCnt) + '件処理終了')


#
df['コード'] = code
df['名称'] = sname
df['市場'] = sijyou


[datam.replace('百万円','').replace(',','') for datam in df['時価総額(百万円)'].to_list()]


#---,',',百万円を置き換え
df['時価総額'] = [datam.replace('百万円','').replace(',','').replace('---','0') for datam in df['時価総額(百万円)'].to_list()]


df['時価総額'] = df['時価総額'].astype(int)


df


#下５文字（15:00）と','を削除
[datam[:-5].replace(',','') for datam in df['取引値'].to_list()]


df['取引値'] = [datam[:-5].replace(',','') for datam in df['取引値'].to_list()]


df['取引値'] = df['取引値'].astype(float)


df['上場年月日'] = pd.to_datetime(df['上場年月日'])


df.shape


df.columns


del df['名称・コード・市場'], df['時価総額(百万円)'], df['index']

df


df.dtypes


df = df.reindex(columns=['順位', 'コード', '名称', '市場', '時価総額', '上場年月日', '取引値', '決算年月'])


df


df.to_csv('上場年度順.csv')


df[df['時価総額'] < 7000]


dft = df[df['上場年月日'] > '2020-1-1']


dft[dft['時価総額'] < 7000]


import pandas as pd


df = pd.read_csv('上場年度順.csv')


del df['Unnamed: 0']
df


df.dtypes


jyoujyou5 = df[df['上場年月日'] > '2020-1-1']
jyoujyou5


ma25kairi_vol = pd.read_csv('移動平均乖離25出来高6-25倍率.csv')


ma25kairi_vol['コード'] = ma25kairi_vol['コード'].astype(str)


ma25kairi_vol.dtypes


kouho100buy =  pd.read_csv('100倍株候補.csv')
kouho100buy.dtypes


kouho100buy['コード'] = kouho100buy['コード'].astype(str)


kouho100buy.dtypes


#２５移動平均乖離出来高微増のなかで上場５年以内で
ma25kairi_vol[ma25kairi_vol['コード'].isin(jyoujyou5['コード'])]


#
ma25kairi_vol[ma25kairi_vol['コード'].isin(df['コード'])]


df[df['コード'].isin(ma25kairi_vol['コード'])]


kouho100buy[kouho100buy['コード'].isin(df['コード'])]


ma25kairi_vol
ma25kairi_vol.dtypes





#25日移動平均乖離出来高交差の中で１００倍株候補
ma25kairi_vol[ma25kairi_vol['コード'].isin(kouho100buy['コード'])]


#25日移動平均乖離出来高交差の中で１００倍株候補
intCnt = 0
for datakai_vol in ma25kairi_vol['コード']:
    for kouho in kouho100buy['コード']:
        if datakai_vol == kouho:
            print(datakai_vol)
            intCnt += 1
print(str(intCnt) + '件')


#25日移動平均乖離出来高交差の中で上場１５年未満
ma25kairi_vol[ma25kairi_vol['コード'].isin(df['コード'])]


#25日移動平均乖離出来高交差の中で上場１５年未満
intCnt = 0
for datakai_vol in ma25kairi_vol['コード']:
    for jyou15 in df['コード']:
        if datakai_vol == jyou15:
            print(datakai_vol)
            intCnt += 1
print(str(intCnt) + '件')


#kouho100buy['コード'].dtypes
#df.dtypes
kouho100buy.dtypes


#100倍候補で上場１５年以内
kouho100buy[kouho100buy['コード'].isin(df['コード'])]


#100倍候補で上場１５年未満
intCnt = 0
for kouho in kouho100buy['コード']:
    for jyou15 in df['コード']:
        if kouho == jyou15:
            print(kouho)
            intCnt += 1
print(str(intCnt) + '件')


#100倍候補で上場５年以内
ds100Buy5Y = kouho100buy[kouho100buy['コード'].isin(jyoujyou5['コード'])]
ds100Buy5Y


!pip install mplfinance


import mplfinance as mpf
import yfinance as yf


def get_stock_data(code):
    df = yf.download(code + '.T').tail(100)
    return df


def writeChart(code):
    df = get_stock_data(code)
    mpf.plot(
        df,
        type="candle",
        style="yahoo",
        volume=True,
        mav=[5, 20, 60],
        figratio=(2, 1),
        title= code,
        savefig='./imgchart/' + code + '.png'
    )   


dfc = get_stock_data('8123')



writeChart('8123')


#25日移動平均乖離出来高交差の中で１００倍株候補
ds = ma25kairi_vol[ma25kairi_vol['コード'].isin(kouho100buy['コード'])]



for code in ds100Buy5Y['コード']:
    print(code)
    try:
        writeChart(str(code))
    except TypeError as ex:
        print(ex)
        continue

print('終了')


import datetime


today = datetime.datetime.now()
today.date()
print(str(today.date()).replace('-',''))


base_gyouseki_url = 'https://minkabu.jp/stock/4449/settlement'


dfg = pd.read_html(base_gyouseki_url)


dfg[1]


dfg


!pip install selenium


#!pip install chromedriver_binary==121.0.6167.184(121.0.6167.161)
!pip install chromedriver_binary==121.0.6167.85.0


!pip install beautifulsoup4


from selenium import webdriver
from selenium.webdriver.common.by import By


driver = webdriver.Chrome()
driver.implicitly_wait(10)
driver.get(base_gyouseki_url)


el = driver.find_elements(By.CLASS_NAME,'num')


//*[@id="xcompany_info"]/div[1]/div[3]/div/div[3]/table/tbody


elx = driver.find_elements(By.XPATH, '//*[@id="xcompany_info"]/div[1]/div[3]/div/div[3]/table/tbody/tr[1]/td[1]')


[e.text for e in elx]


elx = driver.find_elements(By.XPATH, '//div[@id="xcompany_info"]/span')


elx
