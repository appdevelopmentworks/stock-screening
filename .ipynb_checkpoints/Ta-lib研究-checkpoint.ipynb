{
 "cells": [
  {
   "cell_type": "code",
   "execution_count": 3,
   "id": "471af8a4-9220-45f7-a418-384b78013055",
   "metadata": {},
   "outputs": [
    {
     "name": "stdout",
     "output_type": "stream",
     "text": [
      "Collecting Ta-lib\n",
      "  Using cached TA-Lib-0.4.28.tar.gz (357 kB)\n",
      "  Installing build dependencies: started\n",
      "  Installing build dependencies: finished with status 'done'\n",
      "  Getting requirements to build wheel: started\n",
      "  Getting requirements to build wheel: finished with status 'done'\n",
      "  Installing backend dependencies: started\n",
      "  Installing backend dependencies: finished with status 'done'\n",
      "  Preparing metadata (pyproject.toml): started\n",
      "  Preparing metadata (pyproject.toml): finished with status 'done'\n",
      "Requirement already satisfied: numpy in c:\\users\\hartm\\appdata\\local\\programs\\python\\python311\\lib\\site-packages (from Ta-lib) (1.26.0)\n",
      "Building wheels for collected packages: Ta-lib\n",
      "  Building wheel for Ta-lib (pyproject.toml): started\n",
      "  Building wheel for Ta-lib (pyproject.toml): finished with status 'error'\n",
      "Failed to build Ta-lib\n"
     ]
    },
    {
     "name": "stderr",
     "output_type": "stream",
     "text": [
      "  error: subprocess-exited-with-error\n",
      "  \n",
      "  Building wheel for Ta-lib (pyproject.toml) did not run successfully.\n",
      "  exit code: 1\n",
      "  \n",
      "  [20 lines of output]\n",
      "  <string>:77: UserWarning: Cannot find ta-lib library, installation may fail.\n",
      "  running bdist_wheel\n",
      "  running build\n",
      "  running build_py\n",
      "  creating build\n",
      "  creating build\\lib.win-amd64-cpython-311\n",
      "  creating build\\lib.win-amd64-cpython-311\\talib\n",
      "  copying talib\\abstract.py -> build\\lib.win-amd64-cpython-311\\talib\n",
      "  copying talib\\deprecated.py -> build\\lib.win-amd64-cpython-311\\talib\n",
      "  copying talib\\stream.py -> build\\lib.win-amd64-cpython-311\\talib\n",
      "  copying talib\\__init__.py -> build\\lib.win-amd64-cpython-311\\talib\n",
      "  running build_ext\n",
      "  building 'talib._ta_lib' extension\n",
      "  creating build\\temp.win-amd64-cpython-311\n",
      "  creating build\\temp.win-amd64-cpython-311\\Release\n",
      "  creating build\\temp.win-amd64-cpython-311\\Release\\talib\n",
      "  \"C:\\Program Files\\Microsoft Visual Studio\\2022\\Community\\VC\\Tools\\MSVC\\14.34.31933\\bin\\HostX86\\x64\\cl.exe\" /c /nologo /O2 /W3 /GL /DNDEBUG /MD -Ic:\\ta-lib\\c\\include -IC:\\Users\\hartm\\AppData\\Local\\Temp\\pip-build-env-7myfe8pn\\normal\\Lib\\site-packages\\numpy\\core\\include -IC:\\Users\\hartm\\AppData\\Local\\Programs\\Python\\Python311\\include -IC:\\Users\\hartm\\AppData\\Local\\Programs\\Python\\Python311\\Include \"-IC:\\Program Files\\Microsoft Visual Studio\\2022\\Community\\VC\\Tools\\MSVC\\14.34.31933\\include\" \"-IC:\\Program Files\\Microsoft Visual Studio\\2022\\Community\\VC\\Tools\\MSVC\\14.34.31933\\ATLMFC\\include\" \"-IC:\\Program Files\\Microsoft Visual Studio\\2022\\Community\\VC\\Auxiliary\\VS\\include\" \"-IC:\\Program Files (x86)\\Windows Kits\\10\\include\\10.0.22000.0\\ucrt\" \"-IC:\\Program Files (x86)\\Windows Kits\\10\\\\include\\10.0.22000.0\\\\um\" \"-IC:\\Program Files (x86)\\Windows Kits\\10\\\\include\\10.0.22000.0\\\\shared\" \"-IC:\\Program Files (x86)\\Windows Kits\\10\\\\include\\10.0.22000.0\\\\winrt\" \"-IC:\\Program Files (x86)\\Windows Kits\\10\\\\include\\10.0.22000.0\\\\cppwinrt\" \"-IC:\\Program Files (x86)\\Windows Kits\\NETFXSDK\\4.8\\include\\um\" /Tctalib/_ta_lib.c /Fobuild\\temp.win-amd64-cpython-311\\Release\\talib/_ta_lib.obj\n",
      "  _ta_lib.c\n",
      "  talib/_ta_lib.c(1080): fatal error C1083: include ファイルを開けません。'ta_libc.h':No such file or directory\n",
      "  error: command 'C:\\\\Program Files\\\\Microsoft Visual Studio\\\\2022\\\\Community\\\\VC\\\\Tools\\\\MSVC\\\\14.34.31933\\\\bin\\\\HostX86\\\\x64\\\\cl.exe' failed with exit code 2\n",
      "  [end of output]\n",
      "  \n",
      "  note: This error originates from a subprocess, and is likely not a problem with pip.\n",
      "  ERROR: Failed building wheel for Ta-lib\n",
      "ERROR: Could not build wheels for Ta-lib, which is required to install pyproject.toml-based projects\n"
     ]
    }
   ],
   "source": [
    "!pip install Ta-lib"
   ]
  },
  {
   "cell_type": "code",
   "execution_count": null,
   "id": "2423dd13-42cd-4cad-affd-7a9f2cea557c",
   "metadata": {},
   "outputs": [],
   "source": []
  }
 ],
 "metadata": {
  "kernelspec": {
   "display_name": "Python 3 (ipykernel)",
   "language": "python",
   "name": "python3"
  },
  "language_info": {
   "codemirror_mode": {
    "name": "ipython",
    "version": 3
   },
   "file_extension": ".py",
   "mimetype": "text/x-python",
   "name": "python",
   "nbconvert_exporter": "python",
   "pygments_lexer": "ipython3",
   "version": "3.11.5"
  }
 },
 "nbformat": 4,
 "nbformat_minor": 5
}
