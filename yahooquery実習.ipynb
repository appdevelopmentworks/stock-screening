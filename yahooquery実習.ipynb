{
 "cells": [
  {
   "cell_type": "code",
   "execution_count": null,
   "id": "ea4861d7-4346-4e0e-9216-522f3c399e82",
   "metadata": {},
   "outputs": [],
   "source": [
    "!pip install yahooquery"
   ]
  },
  {
   "cell_type": "code",
   "execution_count": 4,
   "id": "295ac7c0-da8c-4043-963f-c9beb1c772de",
   "metadata": {},
   "outputs": [],
   "source": [
    "from yahooquery import Ticker"
   ]
  },
  {
   "cell_type": "code",
   "execution_count": 5,
   "id": "0eec9c14-694e-4c1b-9000-8bcdaebfa6c1",
   "metadata": {},
   "outputs": [],
   "source": [
    "stock = Ticker('8151.T')"
   ]
  },
  {
   "cell_type": "code",
   "execution_count": null,
   "id": "5f231207-7f73-4d02-944e-0f2762b0e605",
   "metadata": {},
   "outputs": [],
   "source": [
    "stock.all_modules"
   ]
  },
  {
   "cell_type": "code",
   "execution_count": 9,
   "id": "cfc81a5b-f89d-4ed8-81b4-0094bf48b60d",
   "metadata": {},
   "outputs": [],
   "source": [
    "df = stock.income_statement('q')"
   ]
  },
  {
   "cell_type": "code",
   "execution_count": 11,
   "id": "649ce500-8557-4f6a-8199-b07033cc7dd9",
   "metadata": {},
   "outputs": [
    {
     "data": {
      "text/plain": [
       "Index(['asOfDate', 'periodType', 'currencyCode', 'BasicAverageShares',\n",
       "       'BasicEPS', 'CostOfRevenue', 'DilutedAverageShares', 'DilutedEPS',\n",
       "       'DilutedNIAvailtoComStockholders', 'EBIT', 'EBITDA', 'GrossProfit',\n",
       "       'InterestExpense', 'InterestExpenseNonOperating', 'InterestIncome',\n",
       "       'InterestIncomeNonOperating', 'NetIncome',\n",
       "       'NetIncomeCommonStockholders', 'NetIncomeContinuousOperations',\n",
       "       'NetIncomeFromContinuingAndDiscontinuedOperation',\n",
       "       'NetIncomeFromContinuingOperationNetMinorityInterest',\n",
       "       'NetIncomeIncludingNoncontrollingInterests', 'NetInterestIncome',\n",
       "       'NetNonOperatingInterestIncomeExpense', 'NormalizedEBITDA',\n",
       "       'NormalizedIncome', 'OperatingExpense', 'OperatingIncome',\n",
       "       'OperatingRevenue', 'OtherNonOperatingIncomeExpenses',\n",
       "       'OtherSpecialCharges', 'OtherunderPreferredStockDividend',\n",
       "       'PretaxIncome', 'ReconciledCostOfRevenue', 'ReconciledDepreciation',\n",
       "       'SpecialIncomeCharges', 'TaxEffectOfUnusualItems', 'TaxProvision',\n",
       "       'TaxRateForCalcs', 'TotalExpenses', 'TotalOperatingIncomeAsReported',\n",
       "       'TotalRevenue', 'TotalUnusualItems',\n",
       "       'TotalUnusualItemsExcludingGoodwill'],\n",
       "      dtype='object')"
      ]
     },
     "execution_count": 11,
     "metadata": {},
     "output_type": "execute_result"
    }
   ],
   "source": [
    "df.columns"
   ]
  },
  {
   "cell_type": "code",
   "execution_count": 23,
   "id": "1872695e-e865-4758-9483-7618fed50f3f",
   "metadata": {},
   "outputs": [
    {
     "data": {
      "text/html": [
       "<div>\n",
       "<style scoped>\n",
       "    .dataframe tbody tr th:only-of-type {\n",
       "        vertical-align: middle;\n",
       "    }\n",
       "\n",
       "    .dataframe tbody tr th {\n",
       "        vertical-align: top;\n",
       "    }\n",
       "\n",
       "    .dataframe thead th {\n",
       "        text-align: right;\n",
       "    }\n",
       "</style>\n",
       "<table border=\"1\" class=\"dataframe\">\n",
       "  <thead>\n",
       "    <tr style=\"text-align: right;\">\n",
       "      <th></th>\n",
       "      <th>asOfDate</th>\n",
       "      <th>OperatingRevenue</th>\n",
       "      <th>OperatingIncome</th>\n",
       "      <th>NetIncome</th>\n",
       "    </tr>\n",
       "    <tr>\n",
       "      <th>symbol</th>\n",
       "      <th></th>\n",
       "      <th></th>\n",
       "      <th></th>\n",
       "      <th></th>\n",
       "    </tr>\n",
       "  </thead>\n",
       "  <tbody>\n",
       "    <tr>\n",
       "      <th>8151.T</th>\n",
       "      <td>2020-03-31</td>\n",
       "      <td>NaN</td>\n",
       "      <td>NaN</td>\n",
       "      <td>NaN</td>\n",
       "    </tr>\n",
       "    <tr>\n",
       "      <th>8151.T</th>\n",
       "      <td>2022-12-31</td>\n",
       "      <td>5.512298e+09</td>\n",
       "      <td>-1.698910e+08</td>\n",
       "      <td>-1.874280e+08</td>\n",
       "    </tr>\n",
       "    <tr>\n",
       "      <th>8151.T</th>\n",
       "      <td>2022-12-31</td>\n",
       "      <td>NaN</td>\n",
       "      <td>NaN</td>\n",
       "      <td>NaN</td>\n",
       "    </tr>\n",
       "    <tr>\n",
       "      <th>8151.T</th>\n",
       "      <td>2023-03-31</td>\n",
       "      <td>9.974366e+09</td>\n",
       "      <td>1.674675e+09</td>\n",
       "      <td>1.328318e+09</td>\n",
       "    </tr>\n",
       "    <tr>\n",
       "      <th>8151.T</th>\n",
       "      <td>2023-06-30</td>\n",
       "      <td>5.667620e+09</td>\n",
       "      <td>-3.616900e+08</td>\n",
       "      <td>-1.771030e+08</td>\n",
       "    </tr>\n",
       "    <tr>\n",
       "      <th>8151.T</th>\n",
       "      <td>2023-09-30</td>\n",
       "      <td>7.018305e+09</td>\n",
       "      <td>3.291780e+08</td>\n",
       "      <td>5.704240e+08</td>\n",
       "    </tr>\n",
       "    <tr>\n",
       "      <th>8151.T</th>\n",
       "      <td>2023-09-30</td>\n",
       "      <td>2.817259e+10</td>\n",
       "      <td>1.472272e+09</td>\n",
       "      <td>1.534211e+09</td>\n",
       "    </tr>\n",
       "  </tbody>\n",
       "</table>\n",
       "</div>"
      ],
      "text/plain": [
       "         asOfDate  OperatingRevenue  OperatingIncome     NetIncome\n",
       "symbol                                                            \n",
       "8151.T 2020-03-31               NaN              NaN           NaN\n",
       "8151.T 2022-12-31      5.512298e+09    -1.698910e+08 -1.874280e+08\n",
       "8151.T 2022-12-31               NaN              NaN           NaN\n",
       "8151.T 2023-03-31      9.974366e+09     1.674675e+09  1.328318e+09\n",
       "8151.T 2023-06-30      5.667620e+09    -3.616900e+08 -1.771030e+08\n",
       "8151.T 2023-09-30      7.018305e+09     3.291780e+08  5.704240e+08\n",
       "8151.T 2023-09-30      2.817259e+10     1.472272e+09  1.534211e+09"
      ]
     },
     "execution_count": 23,
     "metadata": {},
     "output_type": "execute_result"
    }
   ],
   "source": [
    "dfc = df[['asOfDate', 'OperatingRevenue', 'OperatingIncome', 'NetIncome']]\n",
    "dfc"
   ]
  },
  {
   "cell_type": "code",
   "execution_count": null,
   "id": "ff39f4a0-8e22-458c-bfb9-b1993886cac9",
   "metadata": {},
   "outputs": [],
   "source": []
  }
 ],
 "metadata": {
  "kernelspec": {
   "display_name": "Python 3 (ipykernel)",
   "language": "python",
   "name": "python3"
  },
  "language_info": {
   "codemirror_mode": {
    "name": "ipython",
    "version": 3
   },
   "file_extension": ".py",
   "mimetype": "text/x-python",
   "name": "python",
   "nbconvert_exporter": "python",
   "pygments_lexer": "ipython3",
   "version": "3.11.5"
  }
 },
 "nbformat": 4,
 "nbformat_minor": 5
}
